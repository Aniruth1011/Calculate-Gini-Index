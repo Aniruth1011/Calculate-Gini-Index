{
 "cells": [
  {
   "cell_type": "markdown",
   "id": "466e14ac",
   "metadata": {},
   "source": [
    "Import Dependencies"
   ]
  },
  {
   "cell_type": "code",
   "execution_count": 8,
   "id": "9d34fb99",
   "metadata": {},
   "outputs": [],
   "source": [
    "import pandas as pd\n",
    "import numpy as np\n",
    "from collections import Counter"
   ]
  },
  {
   "cell_type": "code",
   "execution_count": 7,
   "id": "12cdf14a",
   "metadata": {},
   "outputs": [
    {
     "name": "stdout",
     "output_type": "stream",
     "text": [
      "    income student  age credit_rate Outcome\n",
      "0     high      no   30        fair      no\n",
      "1     high      no   27   excellent      no\n",
      "2     high      no   45        fair     yes\n",
      "3   medium      no   58        fair     yes\n",
      "4      low     yes   20        fair     yes\n",
      "5      low     yes   23   excellent      no\n",
      "6      low     yes   22   excellent     yes\n",
      "7   medium      no   46        fair      no\n",
      "8      low     yes   23        fair     yes\n",
      "9   medium     yes   25        fair     yes\n",
      "10  medium     yes   22   excellent     yes\n",
      "11  medium      no   36   excellent     yes\n",
      "12    high     yes   20        fair     yes\n",
      "13  medium      no   40   excellent      no\n"
     ]
    }
   ],
   "source": [
    "data = {\n",
    "    'income' : ['high', 'high', 'high', 'medium', 'low', 'low', 'low', 'medium','low', 'medium', 'medium', 'medium', 'high', 'medium'],\n",
    "    'student' : ['no','no','no','no','yes','yes','yes','no','yes','yes','yes','no','yes','no'],\n",
    "    'age' : [30 , 27 , 45 , 58 , 20 , 23  , 22 , 46 , 23 , 25 , 22 , 36 , 20 , 40  ] , \n",
    "    'credit_rate' : ['fair', 'excellent', 'fair', 'fair', 'fair', 'excellent', 'excellent', 'fair', 'fair', 'fair','excellent', 'excellent', 'fair', 'excellent'],\n",
    "    'Outcome' : ['no', 'no', 'yes', 'yes', 'yes', 'no', 'yes', 'no', 'yes', 'yes','yes', 'yes', 'yes', 'no']\n",
    "}\n",
    "data = pd.DataFrame (data, columns=data.keys())\n",
    "print(data)\n"
   ]
  },
  {
   "cell_type": "code",
   "execution_count": 26,
   "id": "3c48f928",
   "metadata": {},
   "outputs": [],
   "source": [
    "result_class = 'Outcome'"
   ]
  },
  {
   "cell_type": "code",
   "execution_count": 46,
   "id": "21af435c",
   "metadata": {},
   "outputs": [],
   "source": [
    "number_of_classes = len(Counter(data[result_class]))\n",
    "classes_items = list(Counter(data[result_class]).keys())"
   ]
  },
  {
   "cell_type": "code",
   "execution_count": 33,
   "id": "1da9950a",
   "metadata": {},
   "outputs": [
    {
     "name": "stdout",
     "output_type": "stream",
     "text": [
      "Number of Classes Present is :  2\n"
     ]
    }
   ],
   "source": [
    "print(\"Number of Classes Present is : \", number_of_classes)"
   ]
  },
  {
   "cell_type": "code",
   "execution_count": 49,
   "id": "a2af6eda",
   "metadata": {},
   "outputs": [
    {
     "name": "stdout",
     "output_type": "stream",
     "text": [
      "The Classes for prediction are  ['no', 'yes']\n"
     ]
    }
   ],
   "source": [
    "print(\"The Classes for prediction are \" , classes_items)"
   ]
  },
  {
   "cell_type": "code",
   "execution_count": 129,
   "id": "c35732d5",
   "metadata": {},
   "outputs": [],
   "source": [
    "def gini_cat( feature , dataset = data  , n_class =  number_of_classes , class_item =  classes_items , result = result_class ):\n",
    "    feature_data = list(dataset[feature])\n",
    "    items = list(Counter(feature_data).keys())\n",
    "    n = len(dataset)\n",
    "    probability_sum_sq = 0\n",
    "    for i in items:\n",
    "        probability_sum_sq+=(len(dataset[dataset[feature] == i]) / n)**2\n",
    "    return (1 - probability_sum_sq)"
   ]
  },
  {
   "cell_type": "code",
   "execution_count": 140,
   "id": "7a433bf9",
   "metadata": {},
   "outputs": [],
   "source": [
    "categorical = list(data.iloc[: , :-1].select_dtypes(exclude = ['int' , 'float']).columns)\n",
    "numerical = list(data.iloc[: , :-1].select_dtypes(include = ['int' , 'float']).columns)"
   ]
  },
  {
   "cell_type": "code",
   "execution_count": 141,
   "id": "38fdd45e",
   "metadata": {},
   "outputs": [
    {
     "data": {
      "text/plain": [
       "['income', 'student', 'credit_rate']"
      ]
     },
     "execution_count": 141,
     "metadata": {},
     "output_type": "execute_result"
    }
   ],
   "source": [
    "categorical"
   ]
  },
  {
   "cell_type": "code",
   "execution_count": 142,
   "id": "5479d986",
   "metadata": {},
   "outputs": [
    {
     "data": {
      "text/plain": [
       "['age']"
      ]
     },
     "execution_count": 142,
     "metadata": {},
     "output_type": "execute_result"
    }
   ],
   "source": [
    "numerical"
   ]
  },
  {
   "cell_type": "code",
   "execution_count": 143,
   "id": "54fc75b1",
   "metadata": {},
   "outputs": [],
   "source": [
    "gini = {}"
   ]
  },
  {
   "cell_type": "code",
   "execution_count": 144,
   "id": "c794bd50",
   "metadata": {},
   "outputs": [],
   "source": [
    "for category in categorical:\n",
    "    gini[category] = gini_cat(category)"
   ]
  },
  {
   "cell_type": "code",
   "execution_count": 145,
   "id": "cdd4df5b",
   "metadata": {},
   "outputs": [
    {
     "data": {
      "text/plain": [
       "{'income': 0.653061224489796,\n",
       " 'student': 0.5,\n",
       " 'credit_rate': 0.48979591836734704}"
      ]
     },
     "execution_count": 145,
     "metadata": {},
     "output_type": "execute_result"
    }
   ],
   "source": [
    "gini"
   ]
  },
  {
   "cell_type": "code",
   "execution_count": 194,
   "id": "d6c0f294",
   "metadata": {},
   "outputs": [],
   "source": [
    "def gini_num(feature , dataset = data  , n_class =  number_of_classes , class_item =  classes_items , result = result_class):\n",
    "    sorted_data = dataset.sort_values(by = feature)\n",
    "    sorted_col = sorted(list(set(sorted_data[feature])))\n",
    "    l = []\n",
    "    for i in sorted_col:\n",
    "        left = sorted_data[sorted_data[feature]<=i]\n",
    "        prob = []\n",
    "        left_len = len(left)\n",
    "        for class_ in class_item:\n",
    "            prob.append(len(left[left[result] == class_]))\n",
    "        l.append(prob)\n",
    "    for i in range(len(l)):\n",
    "        s = sum(l[i])\n",
    "        new_l = []\n",
    "        for j in l[i]:\n",
    "            new_l.append(j/s)\n",
    "        l[i] = new_l\n",
    "    gini_l = []\n",
    "    for i in l:\n",
    "        s = 0\n",
    "        for j in i:\n",
    "            s+=(j**2)\n",
    "        gini_l.append(1-s)\n",
    "    l = []\n",
    "    for i in sorted_col:\n",
    "        right = sorted_data[sorted_data[feature]>i]\n",
    "        prob = []\n",
    "        right_len = len(right)\n",
    "        for class_ in class_item:\n",
    "            prob.append(len(left[left[result] == class_]))\n",
    "        l.append(prob)\n",
    "    for i in range(len(l)):\n",
    "        s = sum(l[i])\n",
    "        new_l = []\n",
    "        for j in l[i]:\n",
    "            new_l.append(j/s)\n",
    "        l[i] = new_l\n",
    "    gini_r = []\n",
    "    for i in l:\n",
    "        s = 0\n",
    "        for j in i:\n",
    "            s+=(j**2)\n",
    "        gini_r.append(1-s)\n",
    "    n = len(dataset)\n",
    "    gini = []\n",
    "    for i in range(len(sorted_col)):\n",
    "        p_l = len(dataset[dataset[feature]<=sorted_col[i]])/n\n",
    "        p_r = len(dataset[dataset[feature]>sorted_col[i]])/n\n",
    "        gini.append( (p_l*gini_l[i]) + (p_r*gini_r[i]))\n",
    "    index = gini.index(min(gini))\n",
    "    return (sorted_col[index] , gini[index])"
   ]
  },
  {
   "cell_type": "code",
   "execution_count": 195,
   "id": "4d25a7a1",
   "metadata": {},
   "outputs": [
    {
     "data": {
      "text/plain": [
       "(22, 0.3279883381924198)"
      ]
     },
     "execution_count": 195,
     "metadata": {},
     "output_type": "execute_result"
    }
   ],
   "source": [
    "gini_num('age')"
   ]
  },
  {
   "cell_type": "code",
   "execution_count": 203,
   "id": "715c01c1",
   "metadata": {},
   "outputs": [],
   "source": [
    "for feature in numerical:\n",
    "    gini[feature] = gini_num(feature)[1]"
   ]
  },
  {
   "cell_type": "code",
   "execution_count": 204,
   "id": "c80ee8e8",
   "metadata": {},
   "outputs": [
    {
     "data": {
      "text/plain": [
       "{'income': 0.653061224489796,\n",
       " 'student': 0.5,\n",
       " 'credit_rate': 0.48979591836734704,\n",
       " 'age': 0.3279883381924198}"
      ]
     },
     "execution_count": 204,
     "metadata": {},
     "output_type": "execute_result"
    }
   ],
   "source": [
    "gini"
   ]
  },
  {
   "cell_type": "code",
   "execution_count": 205,
   "id": "52464341",
   "metadata": {},
   "outputs": [
    {
     "name": "stdout",
     "output_type": "stream",
     "text": [
      "Best Feature is :   age\n"
     ]
    }
   ],
   "source": [
    "print(\"Best Feature is :  \" , min(gini))"
   ]
  },
  {
   "cell_type": "code",
   "execution_count": 206,
   "id": "896789bc",
   "metadata": {},
   "outputs": [],
   "source": [
    "if min(gini) in  numerical:\n",
    "    val , feature = gini_num(min(gini))"
   ]
  },
  {
   "cell_type": "code",
   "execution_count": null,
   "id": "35be1bdf",
   "metadata": {},
   "outputs": [],
   "source": []
  }
 ],
 "metadata": {
  "kernelspec": {
   "display_name": "Python 3 (ipykernel)",
   "language": "python",
   "name": "python3"
  },
  "language_info": {
   "codemirror_mode": {
    "name": "ipython",
    "version": 3
   },
   "file_extension": ".py",
   "mimetype": "text/x-python",
   "name": "python",
   "nbconvert_exporter": "python",
   "pygments_lexer": "ipython3",
   "version": "3.9.12"
  }
 },
 "nbformat": 4,
 "nbformat_minor": 5
}
